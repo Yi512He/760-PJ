{
 "cells": [
  {
   "cell_type": "code",
   "execution_count": 1,
   "metadata": {},
   "outputs": [],
   "source": [
    "import pandas as pd\n",
    "import numpy as np\n",
    "from sklearn import preprocessing\n",
    "import matplotlib.pyplot as plt \n",
    "plt.rc(\"font\", size=14)\n",
    "from sklearn.linear_model import LogisticRegression\n",
    "from sklearn.model_selection import train_test_split"
   ]
  },
  {
   "cell_type": "code",
   "execution_count": 2,
   "metadata": {},
   "outputs": [
    {
     "name": "stdout",
     "output_type": "stream",
     "text": [
      "(242421, 7)\n",
      "['sex', 'age_group', 'Race and ethnicity (combined)', 'hosp_yn', 'icu_yn', 'death_yn', 'medcond_yn']\n"
     ]
    }
   ],
   "source": [
    "data = pd.read_csv('../../data/processed/trim_small_data.csv', header=0)\n",
    "print(data.shape)\n",
    "print(list(data.columns))"
   ]
  },
  {
   "cell_type": "code",
   "execution_count": 3,
   "metadata": {},
   "outputs": [
    {
     "data": {
      "text/html": [
       "<div>\n",
       "<style scoped>\n",
       "    .dataframe tbody tr th:only-of-type {\n",
       "        vertical-align: middle;\n",
       "    }\n",
       "\n",
       "    .dataframe tbody tr th {\n",
       "        vertical-align: top;\n",
       "    }\n",
       "\n",
       "    .dataframe thead th {\n",
       "        text-align: right;\n",
       "    }\n",
       "</style>\n",
       "<table border=\"1\" class=\"dataframe\">\n",
       "  <thead>\n",
       "    <tr style=\"text-align: right;\">\n",
       "      <th></th>\n",
       "      <th>sex</th>\n",
       "      <th>age_group</th>\n",
       "      <th>Race and ethnicity (combined)</th>\n",
       "      <th>hosp_yn</th>\n",
       "      <th>icu_yn</th>\n",
       "      <th>death_yn</th>\n",
       "      <th>medcond_yn</th>\n",
       "    </tr>\n",
       "  </thead>\n",
       "  <tbody>\n",
       "    <tr>\n",
       "      <th>0</th>\n",
       "      <td>Female</td>\n",
       "      <td>0 - 9 Years</td>\n",
       "      <td>Multiple/Other, Non-Hispanic</td>\n",
       "      <td>Yes</td>\n",
       "      <td>Yes</td>\n",
       "      <td>No</td>\n",
       "      <td>Yes</td>\n",
       "    </tr>\n",
       "    <tr>\n",
       "      <th>1</th>\n",
       "      <td>Male</td>\n",
       "      <td>0 - 9 Years</td>\n",
       "      <td>Hispanic/Latino</td>\n",
       "      <td>No</td>\n",
       "      <td>No</td>\n",
       "      <td>No</td>\n",
       "      <td>No</td>\n",
       "    </tr>\n",
       "    <tr>\n",
       "      <th>2</th>\n",
       "      <td>Male</td>\n",
       "      <td>0 - 9 Years</td>\n",
       "      <td>Multiple/Other, Non-Hispanic</td>\n",
       "      <td>No</td>\n",
       "      <td>No</td>\n",
       "      <td>No</td>\n",
       "      <td>No</td>\n",
       "    </tr>\n",
       "    <tr>\n",
       "      <th>3</th>\n",
       "      <td>Male</td>\n",
       "      <td>10 - 19 Years</td>\n",
       "      <td>Hispanic/Latino</td>\n",
       "      <td>Yes</td>\n",
       "      <td>No</td>\n",
       "      <td>No</td>\n",
       "      <td>Yes</td>\n",
       "    </tr>\n",
       "    <tr>\n",
       "      <th>4</th>\n",
       "      <td>Female</td>\n",
       "      <td>10 - 19 Years</td>\n",
       "      <td>Hispanic/Latino</td>\n",
       "      <td>No</td>\n",
       "      <td>No</td>\n",
       "      <td>No</td>\n",
       "      <td>No</td>\n",
       "    </tr>\n",
       "  </tbody>\n",
       "</table>\n",
       "</div>"
      ],
      "text/plain": [
       "      sex      age_group Race and ethnicity (combined) hosp_yn icu_yn  \\\n",
       "0  Female    0 - 9 Years  Multiple/Other, Non-Hispanic     Yes    Yes   \n",
       "1    Male    0 - 9 Years               Hispanic/Latino      No     No   \n",
       "2    Male    0 - 9 Years  Multiple/Other, Non-Hispanic      No     No   \n",
       "3    Male  10 - 19 Years               Hispanic/Latino     Yes     No   \n",
       "4  Female  10 - 19 Years               Hispanic/Latino      No     No   \n",
       "\n",
       "  death_yn medcond_yn  \n",
       "0       No        Yes  \n",
       "1       No         No  \n",
       "2       No         No  \n",
       "3       No        Yes  \n",
       "4       No         No  "
      ]
     },
     "execution_count": 3,
     "metadata": {},
     "output_type": "execute_result"
    }
   ],
   "source": [
    "data.head()"
   ]
  },
  {
   "cell_type": "code",
   "execution_count": 4,
   "metadata": {},
   "outputs": [],
   "source": [
    "import seaborn as sns\n",
    "sns.set(style=\"white\")\n",
    "sns.set(style=\"whitegrid\", color_codes=True)"
   ]
  },
  {
   "cell_type": "code",
   "execution_count": 5,
   "metadata": {},
   "outputs": [
    {
     "data": {
      "image/png": "[encoded data removed]",
      "text/plain": [
       "<Figure size 432x288 with 1 Axes>"
      ]
     },
     "metadata": {},
     "output_type": "display_data"
    },
    {
     "data": {
      "text/plain": [
       "'\\nAs you can see in the graph below, the dataset is imbalanced.\\n'"
      ]
     },
     "execution_count": 5,
     "metadata": {},
     "output_type": "execute_result"
    }
   ],
   "source": [
    "sns.countplot(x='death_yn', data=data, palette='husl')\n",
    "plt.show()\n",
    "\n",
    "'''\n",
    "As you can see in the graph below, the dataset is imbalanced.\n",
    "'''"
   ]
  },
  {
   "cell_type": "code",
   "execution_count": 6,
   "metadata": {},
   "outputs": [
    {
     "name": "stdout",
     "output_type": "stream",
     "text": [
      "The median of age groups is: 50 - 59 Years\n"
     ]
    },
    {
     "data": {
      "text/plain": [
       "Text(0, 0.5, 'Frequency')"
      ]
     },
     "execution_count": 6,
     "metadata": {},
     "output_type": "execute_result"
    },
    {
     "data": {
      "image/png": "[encoded data removed]",
      "text/plain": [
       "<Figure size 864x432 with 1 Axes>"
      ]
     },
     "metadata": {},
     "output_type": "display_data"
    }
   ],
   "source": [
    "'''\n",
    "Helper function to get key from value of a dictionary\n",
    "'''\n",
    "def getKeysByValue(dictOfElements, valueToFind):\n",
    "    listOfKeys = \"\"\n",
    "    listOfItems = dictOfElements.items()\n",
    "    for item  in listOfItems:\n",
    "        if item[1] == valueToFind:\n",
    "            listOfKeys = item[0]\n",
    "    return  listOfKeys\n",
    "\n",
    "import collections\n",
    "ctr = collections.Counter(data['age_group'])\n",
    "sum = len(data['age_group'])/2\n",
    "for i in ctr.values():\n",
    "    sum = sum - i\n",
    "    if sum <= 0:\n",
    "        print(\"The median of age groups is: \" + getKeysByValue(ctr, i))\n",
    "        break\n",
    "\n",
    "plt.figure(figsize=(12,6))\n",
    "sns.countplot(x='age_group', data=data)\n",
    "plt.title('Histogram of Age Groups')\n",
    "plt.xlabel('Age Groups')\n",
    "plt.ylabel('Frequency')"
   ]
  },
  {
   "cell_type": "code",
   "execution_count": 7,
   "metadata": {},
   "outputs": [
    {
     "data": {
      "text/plain": [
       "Text(0, 0.5, 'Frequency')"
      ]
     },
     "execution_count": 7,
     "metadata": {},
     "output_type": "execute_result"
    },
    {
     "data": {
      "image/png": "[encoded data removed]",
      "text/plain": [
       "<Figure size 1440x432 with 1 Axes>"
      ]
     },
     "metadata": {},
     "output_type": "display_data"
    }
   ],
   "source": [
    "plt.figure(figsize=(20,6))\n",
    "sns.countplot(x='Race and ethnicity (combined)', data=data)\n",
    "plt.title('Histogram of Race and ethnicity (combined)')\n",
    "plt.xlabel('Race and ethnicity (combined)')\n",
    "plt.ylabel('Frequency')"
   ]
  },
  {
   "cell_type": "code",
   "execution_count": 8,
   "metadata": {},
   "outputs": [
    {
     "data": {
      "text/html": [
       "<div>\n",
       "<style scoped>\n",
       "    .dataframe tbody tr th:only-of-type {\n",
       "        vertical-align: middle;\n",
       "    }\n",
       "\n",
       "    .dataframe tbody tr th {\n",
       "        vertical-align: top;\n",
       "    }\n",
       "\n",
       "    .dataframe thead th {\n",
       "        text-align: right;\n",
       "    }\n",
       "</style>\n",
       "<table border=\"1\" class=\"dataframe\">\n",
       "  <thead>\n",
       "    <tr style=\"text-align: right;\">\n",
       "      <th></th>\n",
       "      <th>death_yn</th>\n",
       "      <th>sex_Female</th>\n",
       "      <th>sex_Male</th>\n",
       "      <th>age_group_0 - 9 Years</th>\n",
       "      <th>age_group_10 - 19 Years</th>\n",
       "      <th>age_group_20 - 29 Years</th>\n",
       "      <th>age_group_30 - 39 Years</th>\n",
       "      <th>age_group_40 - 49 Years</th>\n",
       "      <th>age_group_50 - 59 Years</th>\n",
       "      <th>age_group_60 - 69 Years</th>\n",
       "      <th>...</th>\n",
       "      <th>Race and ethnicity (combined)_Hispanic/Latino</th>\n",
       "      <th>Race and ethnicity (combined)_Multiple/Other, Non-Hispanic</th>\n",
       "      <th>Race and ethnicity (combined)_Native Hawaiian/Other Pacific Islander, Non-Hispanic</th>\n",
       "      <th>Race and ethnicity (combined)_White, Non-Hispanic</th>\n",
       "      <th>hosp_yn_No</th>\n",
       "      <th>hosp_yn_Yes</th>\n",
       "      <th>icu_yn_No</th>\n",
       "      <th>icu_yn_Yes</th>\n",
       "      <th>medcond_yn_No</th>\n",
       "      <th>medcond_yn_Yes</th>\n",
       "    </tr>\n",
       "  </thead>\n",
       "  <tbody>\n",
       "    <tr>\n",
       "      <th>0</th>\n",
       "      <td>No</td>\n",
       "      <td>1</td>\n",
       "      <td>0</td>\n",
       "      <td>1</td>\n",
       "      <td>0</td>\n",
       "      <td>0</td>\n",
       "      <td>0</td>\n",
       "      <td>0</td>\n",
       "      <td>0</td>\n",
       "      <td>0</td>\n",
       "      <td>...</td>\n",
       "      <td>0</td>\n",
       "      <td>1</td>\n",
       "      <td>0</td>\n",
       "      <td>0</td>\n",
       "      <td>0</td>\n",
       "      <td>1</td>\n",
       "      <td>0</td>\n",
       "      <td>1</td>\n",
       "      <td>0</td>\n",
       "      <td>1</td>\n",
       "    </tr>\n",
       "    <tr>\n",
       "      <th>1</th>\n",
       "      <td>No</td>\n",
       "      <td>0</td>\n",
       "      <td>1</td>\n",
       "      <td>1</td>\n",
       "      <td>0</td>\n",
       "      <td>0</td>\n",
       "      <td>0</td>\n",
       "      <td>0</td>\n",
       "      <td>0</td>\n",
       "      <td>0</td>\n",
       "      <td>...</td>\n",
       "      <td>1</td>\n",
       "      <td>0</td>\n",
       "      <td>0</td>\n",
       "      <td>0</td>\n",
       "      <td>1</td>\n",
       "      <td>0</td>\n",
       "      <td>1</td>\n",
       "      <td>0</td>\n",
       "      <td>1</td>\n",
       "      <td>0</td>\n",
       "    </tr>\n",
       "    <tr>\n",
       "      <th>2</th>\n",
       "      <td>No</td>\n",
       "      <td>0</td>\n",
       "      <td>1</td>\n",
       "      <td>1</td>\n",
       "      <td>0</td>\n",
       "      <td>0</td>\n",
       "      <td>0</td>\n",
       "      <td>0</td>\n",
       "      <td>0</td>\n",
       "      <td>0</td>\n",
       "      <td>...</td>\n",
       "      <td>0</td>\n",
       "      <td>1</td>\n",
       "      <td>0</td>\n",
       "      <td>0</td>\n",
       "      <td>1</td>\n",
       "      <td>0</td>\n",
       "      <td>1</td>\n",
       "      <td>0</td>\n",
       "      <td>1</td>\n",
       "      <td>0</td>\n",
       "    </tr>\n",
       "    <tr>\n",
       "      <th>3</th>\n",
       "      <td>No</td>\n",
       "      <td>0</td>\n",
       "      <td>1</td>\n",
       "      <td>0</td>\n",
       "      <td>1</td>\n",
       "      <td>0</td>\n",
       "      <td>0</td>\n",
       "      <td>0</td>\n",
       "      <td>0</td>\n",
       "      <td>0</td>\n",
       "      <td>...</td>\n",
       "      <td>1</td>\n",
       "      <td>0</td>\n",
       "      <td>0</td>\n",
       "      <td>0</td>\n",
       "      <td>0</td>\n",
       "      <td>1</td>\n",
       "      <td>1</td>\n",
       "      <td>0</td>\n",
       "      <td>0</td>\n",
       "      <td>1</td>\n",
       "    </tr>\n",
       "    <tr>\n",
       "      <th>4</th>\n",
       "      <td>No</td>\n",
       "      <td>1</td>\n",
       "      <td>0</td>\n",
       "      <td>0</td>\n",
       "      <td>1</td>\n",
       "      <td>0</td>\n",
       "      <td>0</td>\n",
       "      <td>0</td>\n",
       "      <td>0</td>\n",
       "      <td>0</td>\n",
       "      <td>...</td>\n",
       "      <td>1</td>\n",
       "      <td>0</td>\n",
       "      <td>0</td>\n",
       "      <td>0</td>\n",
       "      <td>1</td>\n",
       "      <td>0</td>\n",
       "      <td>1</td>\n",
       "      <td>0</td>\n",
       "      <td>1</td>\n",
       "      <td>0</td>\n",
       "    </tr>\n",
       "  </tbody>\n",
       "</table>\n",
       "<p>5 rows × 25 columns</p>\n",
       "</div>"
      ],
      "text/plain": [
       "  death_yn  sex_Female  sex_Male  age_group_0 - 9 Years  \\\n",
       "0       No           1         0                      1   \n",
       "1       No           0         1                      1   \n",
       "2       No           0         1                      1   \n",
       "3       No           0         1                      0   \n",
       "4       No           1         0                      0   \n",
       "\n",
       "   age_group_10 - 19 Years  age_group_20 - 29 Years  age_group_30 - 39 Years  \\\n",
       "0                        0                        0                        0   \n",
       "1                        0                        0                        0   \n",
       "2                        0                        0                        0   \n",
       "3                        1                        0                        0   \n",
       "4                        1                        0                        0   \n",
       "\n",
       "   age_group_40 - 49 Years  age_group_50 - 59 Years  age_group_60 - 69 Years  \\\n",
       "0                        0                        0                        0   \n",
       "1                        0                        0                        0   \n",
       "2                        0                        0                        0   \n",
       "3                        0                        0                        0   \n",
       "4                        0                        0                        0   \n",
       "\n",
       "   ...  Race and ethnicity (combined)_Hispanic/Latino  \\\n",
       "0  ...                                              0   \n",
       "1  ...                                              1   \n",
       "2  ...                                              0   \n",
       "3  ...                                              1   \n",
       "4  ...                                              1   \n",
       "\n",
       "   Race and ethnicity (combined)_Multiple/Other, Non-Hispanic  \\\n",
       "0                                                  1            \n",
       "1                                                  0            \n",
       "2                                                  1            \n",
       "3                                                  0            \n",
       "4                                                  0            \n",
       "\n",
       "   Race and ethnicity (combined)_Native Hawaiian/Other Pacific Islander, Non-Hispanic  \\\n",
       "0                                                  0                                    \n",
       "1                                                  0                                    \n",
       "2                                                  0                                    \n",
       "3                                                  0                                    \n",
       "4                                                  0                                    \n",
       "\n",
       "   Race and ethnicity (combined)_White, Non-Hispanic  hosp_yn_No  hosp_yn_Yes  \\\n",
       "0                                                  0           0            1   \n",
       "1                                                  0           1            0   \n",
       "2                                                  0           1            0   \n",
       "3                                                  0           0            1   \n",
       "4                                                  0           1            0   \n",
       "\n",
       "   icu_yn_No  icu_yn_Yes  medcond_yn_No  medcond_yn_Yes  \n",
       "0          0           1              0               1  \n",
       "1          1           0              1               0  \n",
       "2          1           0              1               0  \n",
       "3          1           0              0               1  \n",
       "4          1           0              1               0  \n",
       "\n",
       "[5 rows x 25 columns]"
      ]
     },
     "execution_count": 8,
     "metadata": {},
     "output_type": "execute_result"
    }
   ],
   "source": [
    "'''\n",
    "Slightly different from what we did in hw, we first modified the features by split all possible choices. \n",
    "For example, for age_group, I split that feature into 9 features: age_group_0_to_9, age_group_10_to_19, etc. \n",
    "1 for True and 0 for False.\n",
    "'''\n",
    "x_vars = ['sex', 'age_group', 'Race and ethnicity (combined)', 'hosp_yn', 'icu_yn', 'medcond_yn']\n",
    "\n",
    "for var in x_vars:\n",
    "    x_list = 'var'+'_'+var\n",
    "    x_list = pd.get_dummies(data[var], prefix=var)\n",
    "    temp = data.join(x_list)\n",
    "    data = temp\n",
    "    \n",
    "data_vars = data.columns.values.tolist()\n",
    "new_vars = [i for i in data_vars if i not in x_vars]\n",
    "\n",
    "new_data = data[new_vars]\n",
    "new_data.head()"
   ]
  },
  {
   "cell_type": "code",
   "execution_count": 9,
   "metadata": {},
   "outputs": [
    {
     "name": "stdout",
     "output_type": "stream",
     "text": [
      "Number of rows after resampling is:  391876\n",
      "Number of death records after resampling is:  195938\n",
      "Number of survived records after resampling is:  195938\n"
     ]
    }
   ],
   "source": [
    "'''\n",
    "Using imblearn package to implement resampling algorithm SMOTE, to balance the dataset.\n",
    "\n",
    "Algorithm explain here:\n",
    "'''\n",
    "X = new_data.loc[:, new_data.columns != 'death_yn']\n",
    "y = new_data.loc[:, new_data.columns == 'death_yn']\n",
    "\n",
    "from imblearn.over_sampling import SMOTE\n",
    "\n",
    "resampling = SMOTE(random_state=0)\n",
    "X_train, X_test, y_train, y_test = train_test_split(X, y, test_size=0.1, random_state=0)\n",
    "columns = X_train.columns\n",
    "resampled_X, resampled_y = resampling.fit_sample(X_train, y_train)\n",
    "resampled_X = pd.DataFrame(data=resampled_X, columns=columns )\n",
    "resampled_y = pd.DataFrame(data=resampled_y,columns=['death_yn'])\n",
    "\n",
    "print(\"Number of rows after resampling is: \", len(resampled_X))\n",
    "print(\"Number of death records after resampling is: \", len(resampled_y[resampled_y['death_yn']==\"No\"]))\n",
    "print(\"Number of survived records after resampling is: \", len(resampled_y[resampled_y['death_yn']==\"Yes\"]))"
   ]
  },
  {
   "cell_type": "code",
   "execution_count": 10,
   "metadata": {},
   "outputs": [
    {
     "name": "stdout",
     "output_type": "stream",
     "text": [
      "[False False False False  True  True  True  True  True  True  True  True\n",
      "  True  True  True  True  True  True  True  True  True  True  True  True]\n",
      "[3 2 5 4 1 1 1 1 1 1 1 1 1 1 1 1 1 1 1 1 1 1 1 1]\n"
     ]
    }
   ],
   "source": [
    "import warnings\n",
    "warnings.filterwarnings('ignore')\n",
    "\n",
    "'''\n",
    "Using sklearn package to analyze and remove insignificant splitted features.\n",
    "\n",
    "Algorithm explain here:\n",
    "'''\n",
    "\n",
    "new_vars = new_data.columns.values.tolist()\n",
    "y = ['death_yn']\n",
    "X = [i for i in new_vars if i not in y]\n",
    "\n",
    "from sklearn.feature_selection import RFE\n",
    "from sklearn.linear_model import LogisticRegression\n",
    "\n",
    "logreg = LogisticRegression()\n",
    "rfe = RFE(logreg, 20)\n",
    "rfe = rfe.fit(resampled_X, resampled_y.values.ravel())\n",
    "print(rfe.support_)\n",
    "print(rfe.ranking_)"
   ]
  },
  {
   "cell_type": "code",
   "execution_count": 11,
   "metadata": {},
   "outputs": [],
   "source": [
    "cols=['sex_Male', 'age_group_20 - 29 Years', 'age_group_30 - 39 Years', 'age_group_40 - 49 Years', 'age_group_50 - 59 Years',\n",
    "      'age_group_60 - 69 Years', 'age_group_70 - 79 Years', 'age_group_80+ Years', 'Race and ethnicity (combined)_American Indian/Alaska Native, Non-Hispanic'\n",
    "      ,'Race and ethnicity (combined)_Asian, Non-Hispanic','Race and ethnicity (combined)_Black, Non-Hispanic', 'Race and ethnicity (combined)_Hispanic/Latino'\n",
    "      ,'Race and ethnicity (combined)_Multiple/Other, Non-Hispanic', 'Race and ethnicity (combined)_White, Non-Hispanic', 'hosp_yn_No'\n",
    "      ,'hosp_yn_Yes', 'icu_yn_No','icu_yn_Yes','medcond_yn_No','medcond_yn_Yes']\n",
    "\n",
    "X = resampled_X[cols]\n",
    "y = resampled_y"
   ]
  },
  {
   "cell_type": "code",
   "execution_count": 28,
   "metadata": {},
   "outputs": [],
   "source": [
    "from sklearn.model_selection import KFold\n",
    "from sklearn.metrics import confusion_matrix\n",
    "\n",
    "'''\n",
    "Perform 10 fold validation, and takes the average. sklearn package used.\n",
    "\n",
    "Algorithm explain here:\n",
    "'''\n",
    "\n",
    "accuracy = 0\n",
    "confusion = [[0, 0], [0, 0]]\n",
    "confusion = np.array(confusion)\n",
    "\n",
    "kf = KFold(n_splits=10)\n",
    "for train, test in kf.split(X):\n",
    "    X_train, X_test, y_train, y_test = X.loc[train, :], X.loc[test, :], y.loc[train, :], y.loc[test, :]\n",
    "    logreg.fit(X_train, y_train)\n",
    "    accuracy = accuracy + logreg.score(X_test, y_test)\n",
    "    y_pred = logreg.predict(X_test)\n",
    "    confusion = confusion + confusion_matrix(y_test, y_pred)\n",
    "    \n",
    "accuracy = accuracy / 10"
   ]
  },
  {
   "cell_type": "code",
   "execution_count": 39,
   "metadata": {},
   "outputs": [
    {
     "name": "stdout",
     "output_type": "stream",
     "text": [
      "Accuracy of 10-fold cross validation is: 0.8947781645771892\n",
      "The Confusion Matrix is: \n",
      " [[170538  25400]\n",
      " [ 15834 180104]]\n",
      "The Sensitivity is: 0.9150408859699954\n",
      "The Specificity is: 0.8764014325755216\n",
      "The G-Mean is: 0.8955127823371806\n",
      "The Precision is: 0.8703671569578132\n",
      "The Recall is: 0.9150408859699954\n",
      "The F-Measure is: 0.8921451178363108\n"
     ]
    }
   ],
   "source": [
    "print('Accuracy of 10-fold cross validation is: ' + format(accuracy))\n",
    "print('The Confusion Matrix is: \\n', confusion)\n",
    "TP = confusion[0][0]\n",
    "FP = confusion[0][1]\n",
    "FN = confusion[1][0]\n",
    "TN = confusion[1][1]\n",
    "\n",
    "import math\n",
    "\n",
    "sensitivity = TP / (TP + FN)\n",
    "print('The Sensitivity is: ' + format(sensitivity))\n",
    "specificity = TN / (FP + TN)\n",
    "print('The Specificity is: ' + format(specificity))\n",
    "g_mean = math.sqrt(sensitivity * specificity)\n",
    "print('The G-Mean is: ' + format(g_mean))\n",
    "precision = TP / (TP + FP)\n",
    "print('The Precision is: ' + format(precision))\n",
    "recall = TP / (TP + FN)\n",
    "print('The Recall is: ' + format(recall))\n",
    "f_measure = (2 * precision * recall) / (precision + recall)\n",
    "print('The F-Measure is: ' + format(f_measure))"
   ]
  }
 ],
 "metadata": {
  "kernelspec": {
   "display_name": "Python 3",
   "language": "python",
   "name": "python3"
  },
  "language_info": {
   "codemirror_mode": {
    "name": "ipython",
    "version": 3
   },
   "file_extension": ".py",
   "mimetype": "text/x-python",
   "name": "python",
   "nbconvert_exporter": "python",
   "pygments_lexer": "ipython3",
   "version": "3.9.0"
  }
 },
 "nbformat": 4,
 "nbformat_minor": 4
}
